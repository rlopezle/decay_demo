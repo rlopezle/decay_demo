{
 "cells": [
  {
   "cell_type": "markdown",
   "metadata": {},
   "source": [
    "# Python Solution Portion\n",
    "\n",
    "The goal of this notebook is to gain experience with Fortran by first working on the decay chain problem explained in the `README.md` file by working out a solution in Python first. Once a suitable solution has been worked out in Python, the exercise will move on by converting over to Fortran and working out a soltuion with that language."
   ]
  },
  {
   "cell_type": "markdown",
   "metadata": {},
   "source": [
    "As a reminder, some key pieces of information from the problem that will be used is:\n",
    "   \n",
    "* Half life of parent = 5 days\n",
    "\n",
    "* Half life of daughter = 7 days\n",
    "\n",
    "* Granddaughter is stable\n",
    "\n",
    "* Only the parent has an initial population of atoms (1E6)\n",
    "\n",
    "**The goal is to plot populations of the three isotopes in 1 hour intervals.**"
   ]
  },
  {
   "cell_type": "markdown",
   "metadata": {},
   "source": [
    "## Imports and Initialization\n",
    "\n",
    "We begin by imorting the necessary files needed for the analysis. We also calculate the decay constant, lambda, in inverse seconds. This is done by taking the natural log of 2 and diving by the half life in seconds. Note that the granddaughter doesn't have a lambda value because it's stable! Finally, we create an array of times in seconds but increment it such that each element is represenative of one hour."
   ]
  },
  {
   "cell_type": "code",
   "execution_count": 2,
   "metadata": {
    "collapsed": false
   },
   "outputs": [],
   "source": [
    "import numpy as np\n",
    "import matplotlib.pyplot as plt"
   ]
  },
  {
   "cell_type": "code",
   "execution_count": 3,
   "metadata": {
    "collapsed": false
   },
   "outputs": [],
   "source": [
    "l_1 = np.log(2) / (5*24*60*60)  #getting lambda of the parent in inverse seconds\n",
    "l_2 = np.log(2) / (7*24*60*60)  #getting lambda of the daughter in inverse seconds\n",
    "N_0 = 1E6; #inital population of parent nuclide\n",
    "t = np.arange(0, 3600000, 3600) #time array"
   ]
  },
  {
   "cell_type": "markdown",
   "metadata": {},
   "source": [
    "## Population Calculations\n",
    "\n",
    "Next, we proceed to calculate the populations of the three nulcides at any time t (in seconds). The process by which we obtained the expressions may be found in the `README.md` file."
   ]
  },
  {
   "cell_type": "code",
   "execution_count": 4,
   "metadata": {
    "collapsed": false
   },
   "outputs": [],
   "source": [
    "N_1_pop = N_0 * np.exp(-l_1*t) #parent population\n",
    "N_2_pop = (l_1*N_0)/(l_2-l_1) * (np.exp(-l_1*t)-np.exp(-l_2*t)) #daughter population\n",
    "N_3_pop = N_0/(l_2-l_1) * (l_2*(1-np.exp(-l_1*t))-l_1*(1-np.exp(-l_2*t))) #granddaughter population"
   ]
  },
  {
   "cell_type": "markdown",
   "metadata": {},
   "source": [
    "## Plotting Preparations\n",
    "\n",
    "We now create a N x 3 array called `results` where N is the number of hours we made the time array. `results` is at first filled with zeroes but these will be filled out by the following loop. Now, the first column of `results` is the parent population, the second is the daughter, and the third is the granddaughter. "
   ]
  },
  {
   "cell_type": "code",
   "execution_count": 5,
   "metadata": {
    "collapsed": false
   },
   "outputs": [],
   "source": [
    "results = np.zeros((len(t),3))\n",
    "for x in range(len(t)):\n",
    "        results[x,0] = N_1_pop[x]\n",
    "        results[x,1] = N_2_pop[x]\n",
    "        results[x,2] = N_3_pop[x]"
   ]
  },
  {
   "cell_type": "markdown",
   "metadata": {},
   "source": [
    "## Plotting\n",
    "\n",
    "Now that the populations of all three nuclides have been calculated and stored in a single array, we plot the three populations on top of one another to check that the behavior is as expected."
   ]
  },
  {
   "cell_type": "code",
   "execution_count": 12,
   "metadata": {
    "collapsed": false
   },
   "outputs": [],
   "source": [
    "plt.plot((t/3600), results[:,0],'-b', label='Parent Population')\n",
    "plt.plot((t/3600), results[:,1],'-r', label='Daughter Population')\n",
    "plt.plot((t/3600), results[:,2],'-g', label='Granddaughter Population')\n",
    "plt.legend(loc='upper center', bbox_to_anchor=(0.5, 1.25), shadow=False, ncol=3)\n",
    "plt.xlabel('Hours')\n",
    "plt.ylabel('Number of atoms')\n",
    "plt.show()\n",
    "#plt.savefig('pyplot.png', bbox_inches='tight')"
   ]
  },
  {
   "cell_type": "markdown",
   "metadata": {
    "collapsed": true
   },
   "source": [
    "## Conclusion\n",
    "\n",
    "The behaviour of the populations was as expected. The parent polution eventually mostly decayed away, the daughter population increased, peaked then also decayed and the granddaughter eventually grew to the number of orignal parent atoms. Now that this part of the exercise is over we'll proceed to work in Fortran as explained in the `README.md` file."
   ]
  }
 ],
 "metadata": {
  "anaconda-cloud": {},
  "kernelspec": {
   "display_name": "Python [conda root]",
   "language": "python",
   "name": "conda-root-py"
  },
  "language_info": {
   "codemirror_mode": {
    "name": "ipython",
    "version": 3
   },
   "file_extension": ".py",
   "mimetype": "text/x-python",
   "name": "python",
   "nbconvert_exporter": "python",
   "pygments_lexer": "ipython3",
   "version": "3.5.2"
  }
 },
 "nbformat": 4,
 "nbformat_minor": 1
}
